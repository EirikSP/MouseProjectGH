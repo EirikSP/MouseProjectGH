{
 "cells": [
  {
   "cell_type": "markdown",
   "metadata": {},
   "source": [
    "# Annalysis"
   ]
  },
  {
   "cell_type": "markdown",
   "metadata": {},
   "source": [
    "### Importing stuff"
   ]
  },
  {
   "cell_type": "code",
   "execution_count": null,
   "metadata": {},
   "outputs": [],
   "source": [
    "import numpy as np \n",
    "import matplotlib.pyplot as plt \n",
    "import os\n",
    "import sys \n",
    "\n",
    "sys.path.append(os.path.join(os.getcwd(), '..'))\n",
    "from facemap_tools.process_tools import *\n",
    "import facemap_tools.plot_utils\n",
    "from facemap_tools.plotting import plot_area\n",
    "import facemap"
   ]
  },
  {
   "cell_type": "markdown",
   "metadata": {},
   "source": [
    "### Loading procs"
   ]
  },
  {
   "cell_type": "code",
   "execution_count": null,
   "metadata": {},
   "outputs": [],
   "source": [
    "# resultfolder = \"/Volumes/T7/ING71_MEC_230309/AVI/resultsnpy\" \n",
    "resultfolder = \"/Users/annapaulinehjertvikaasen/Documents/2. UiO/Sommerjobb - Frederik/Sommerjobb 2023/MouseProject/ING71_MEC_230309/AVI/resultsnpy\"\n",
    "\n",
    "procs = create_procs(resultfolder)"
   ]
  },
  {
   "cell_type": "markdown",
   "metadata": {},
   "source": [
    "### Looking into pupil area plotted "
   ]
  },
  {
   "cell_type": "code",
   "execution_count": null,
   "metadata": {},
   "outputs": [],
   "source": [
    "for filename in list(procs.keys())[::5]:\n",
    "    proc = procs[filename]\n",
    "    plot_area(proc)\n",
    "    plot_area(proc, zoom=True)\n"
   ]
  },
  {
   "cell_type": "code",
   "execution_count": null,
   "metadata": {},
   "outputs": [],
   "source": [
    "proc = list(procs.values())[-1]\n",
    "\n",
    "plt.plot(proc['pupil'][0]['area'])\n",
    "plt.plot(proc['pupil'][0]['area_smooth'])\n",
    "plt.xlim((500,800))"
   ]
  },
  {
   "cell_type": "code",
   "execution_count": null,
   "metadata": {},
   "outputs": [],
   "source": [
    "print(procs.keys())"
   ]
  },
  {
   "cell_type": "code",
   "execution_count": null,
   "metadata": {},
   "outputs": [],
   "source": [
    "plt.plot(procs['ING71_MEC_230309_001_Behav_Fr1-11947_proc']['pupil'][0]['area'])\n",
    "plt.plot(procs['ING71_MEC_230309_001_Behav_Fr1-11947_proc']['pupil'][0]['area_smooth'])\n",
    "# plt.xlim((500,800))\n",
    "# plt.ylim((100,125))"
   ]
  },
  {
   "cell_type": "markdown",
   "metadata": {},
   "source": [
    "### More interesting data?"
   ]
  },
  {
   "cell_type": "code",
   "execution_count": null,
   "metadata": {},
   "outputs": [],
   "source": [
    "proc = list(procs.values())[0]\n",
    "\n",
    "print(proc.keys())\n",
    "print(proc['pupil'][0].keys())\n",
    "\n",
    "print(np.shape(proc['pupil'][0]['axdir']))\n",
    "print(np.shape(proc['pupil'][0]['axlen']))\n",
    "# print(proc['pupil'][0]['axdir'])\n",
    "# print(proc['pupil'][0]['axlen'])"
   ]
  },
  {
   "cell_type": "code",
   "execution_count": null,
   "metadata": {},
   "outputs": [],
   "source": [
    "plt.plot(proc['pupil'][0]['axlen'][:,0])\n",
    "plt.plot(proc['pupil'][0]['axlen'][:,1])"
   ]
  },
  {
   "cell_type": "markdown",
   "metadata": {},
   "source": [
    "Looks like axlen and axdir refer to the axis that make up the tracker ellipse around the pupil. They seem to coincide very well with the area, which is expected as the area is calculated from the ellipse. We assume that axdir is the direction of the two axis making up the ellipse, and axlen the length of them. "
   ]
  },
  {
   "cell_type": "code",
   "execution_count": null,
   "metadata": {},
   "outputs": [],
   "source": [
    "print(proc['rois'][0].keys())"
   ]
  },
  {
   "cell_type": "markdown",
   "metadata": {},
   "source": [
    "Looks like rois contain little data of interest for further analysis. It could be interesting for understanding what we have done when creating the ROIs, so one could argue that the proc-files (per folder, as the ROI is the same for an entire folder. Could call it sample or something) should be saved. "
   ]
  },
  {
   "cell_type": "code",
   "execution_count": null,
   "metadata": {},
   "outputs": [],
   "source": [
    "# 'Ly', 'Lx' \n",
    "print(proc['Lx'])\n",
    "print(proc['Ly'])\n",
    "print(86/3*66/3)"
   ]
  },
  {
   "cell_type": "markdown",
   "metadata": {},
   "source": [
    "We assume the pupil makes up about 1/3 of the x-dir and y-dir. We see that the number of pixels within this fram seem to correspond with the y-axis of the area plots. \n",
    "\n",
    "When trying with two different files (within the same folder). Lx and Ly stay constant"
   ]
  },
  {
   "cell_type": "code",
   "execution_count": null,
   "metadata": {},
   "outputs": [],
   "source": [
    "# 'avgframe':  list of average frames for each video from a subset of frames (binned by sbin) \n",
    "# 'avgmotion':  list of average motions for each video from a subset of frames (binned by sbin)\n",
    "print(np.shape(proc['avgframe']))\n",
    "print(proc['avgframe'])\n",
    "plt.plot(proc['avgframe'][0])"
   ]
  },
  {
   "cell_type": "code",
   "execution_count": null,
   "metadata": {},
   "outputs": [],
   "source": [
    "print(np.shape(proc['avgmotion']))\n",
    "print(proc['avgmotion'])\n",
    "plt.plot(proc['avgmotion'][0])"
   ]
  },
  {
   "cell_type": "markdown",
   "metadata": {},
   "source": [
    "### Downsampling "
   ]
  },
  {
   "cell_type": "code",
   "execution_count": null,
   "metadata": {},
   "outputs": [],
   "source": [
    "import scipy as sp"
   ]
  },
  {
   "cell_type": "code",
   "execution_count": null,
   "metadata": {},
   "outputs": [],
   "source": [
    "#Behavioral data\n",
    "\n",
    "def get_experiment_n_day_k(n, k):\n",
    "    #n is a string ex: '04', '10'\n",
    "    #k is on the form yymmdd\n",
    "    base = \"/Volumes/T7/ING71_MEC_\" + str(k)\n",
    "    base = os.path.join(base, 'AVI')\n",
    "    base = os.path.join(base, 'resultsnpy')\n",
    "\n",
    "    behavior_base = \"/Volumes/T7/mec-lec-por-data\"\n",
    "    files = os.listdir(base)\n",
    "\n",
    "    experiment_base = 'ING71_MEC_' + str(k) + '_0' + n\n",
    "\n",
    "    exp_filenames = [file for file in files if file[:20] == experiment_base]\n",
    "\n",
    "    complete_proc = []\n",
    "    for file in exp_filenames:\n",
    "        proc = np.load(os.path.join(base, file), allow_pickle=True).item()\n",
    "        complete_proc.extend(proc['pupil'][0]['area'])\n",
    "\n",
    "    negative = np.load(os.path.join(behavior_base, experiment_base + '_negative.npy'), allow_pickle=True)\n",
    "    positive = np.load(os.path.join(behavior_base, experiment_base + '_positive.npy'), allow_pickle=True)\n",
    "    reward = np.load(os.path.join(behavior_base, experiment_base + '_reward.npy'), allow_pickle=True)\n",
    "    aversive = np.load(os.path.join(behavior_base, experiment_base + '_aversive.npy'), allow_pickle=True)\n",
    "    \n",
    "    return complete_proc, negative, positive, reward, aversive"
   ]
  },
  {
   "cell_type": "code",
   "execution_count": null,
   "metadata": {},
   "outputs": [],
   "source": [
    "c_proc, negative ,positive, reward, aversive = get_experiment_n_day_k('03', 230309)"
   ]
  },
  {
   "cell_type": "code",
   "execution_count": null,
   "metadata": {},
   "outputs": [],
   "source": [
    "n_points = len(positive)\n",
    "ds_proc = sp.signal.resample(c_proc, n_points) #ds stands for downsampled\n",
    "\n",
    "plt.plot(ds_proc)\n",
    "plt.plot(c_proc)\n",
    "plt.show()\n",
    "\n",
    "#Plot with downsampeled \n",
    "plt.plot(ds_proc)\n",
    "plt.scatter(np.arange(len(positive)), positive*ds_proc, 5, color='r')\n",
    "# plt.xlim(0,100)"
   ]
  },
  {
   "cell_type": "code",
   "execution_count": null,
   "metadata": {},
   "outputs": [],
   "source": [
    "\n",
    "# Using decimate\n",
    "\n",
    "ds_proc_d  = sp.signal.decimate(c_proc, 2)\n",
    " \n",
    "plt.plot(ds_proc_d)\n",
    "plt.plot(c_proc)\n",
    "plt.show()"
   ]
  },
  {
   "cell_type": "code",
   "execution_count": null,
   "metadata": {},
   "outputs": [],
   "source": []
  },
  {
   "cell_type": "markdown",
   "metadata": {},
   "source": [
    "### Checking various ROIs for processing"
   ]
  },
  {
   "cell_type": "markdown",
   "metadata": {},
   "source": [
    "Want to check the difference of creating one sampl.npy-file per folder (general) and compare with the results from creating one per video (individual). Starting with folder /Volumes/T7/ING71_MEC_230309/AVI. "
   ]
  },
  {
   "cell_type": "code",
   "execution_count": null,
   "metadata": {},
   "outputs": [],
   "source": [
    "# Loading general:\n",
    "resultfolder_general = '/Volumes/T7/ING71_MEC_230309/AVI/resultsnpy' \n",
    "procs_general = create_procs(resultfolder_general)\n"
   ]
  },
  {
   "cell_type": "code",
   "execution_count": null,
   "metadata": {},
   "outputs": [],
   "source": [
    "# Loading individuals and comparing:\n",
    "\n",
    "proc_001_ind = np.load('/Volumes/T7/ING71_MEC_230309/AVI/ING71_MEC_230309_001_Behav_Fr1-11947_proc.npy', allow_pickle=True).item()\n",
    "proc_001_gen = procs_general['ING71_MEC_230309_001_Behav_Fr1-11947_proc']\n",
    "\n",
    "plot_area(proc_001_gen, show=False)\n",
    "plot_area(proc_001_ind)\n",
    "\n",
    "\n",
    "proc_002_ind = np.load('/Volumes/T7/ING71_MEC_230309/AVI/ING71_MEC_230309_002_Behav_Fr11949-23896_proc.npy', allow_pickle=True).item()\n",
    "proc_002_gen = procs_general['ING71_MEC_230309_002_Behav_Fr11949-23896_proc']\n",
    "\n",
    "plot_area(proc_002_gen, show=False)\n",
    "plot_area(proc_002_ind)\n",
    "\n",
    "\n",
    "proc_003_ind = np.load('/Volumes/T7/ING71_MEC_230309/AVI/ING71_MEC_230309_003_Behav_Fr23897-35844_proc.npy', allow_pickle=True).item()\n",
    "proc_003_gen = procs_general['ING71_MEC_230309_003_Behav_Fr23897-35844_proc']\n",
    "\n",
    "plot_area(proc_003_gen, show=False)\n",
    "plot_area(proc_003_ind)\n",
    "\n",
    "\n",
    "proc_009_ind = np.load('/Volumes/T7/ING71_MEC_230309/AVI/ING71_MEC_230309_009_Behav_Fr47793-59740_proc.npy', allow_pickle=True).item()\n",
    "proc_009_gen = procs_general['ING71_MEC_230309_009_Behav_Fr47793-59740_proc']\n",
    "\n",
    "plot_area(proc_009_gen, show=False)\n",
    "plot_area(proc_009_ind)"
   ]
  },
  {
   "cell_type": "markdown",
   "metadata": {},
   "source": [
    "Looks like the shape is kept rather constant although the absolute value seems to vary some. One can assume that some of this is due to the individual altering of saturation being better than the general one. Seems like the pupil is mostly within the defined region.  "
   ]
  },
  {
   "cell_type": "code",
   "execution_count": null,
   "metadata": {},
   "outputs": [],
   "source": [
    "\n",
    "# Checkin the original one (should overlap completely):\n",
    "proc_000_ind = np.load('/Volumes/T7/ING71_MEC_230309/AVI/ING71_MEC_230309_000_Behav_Fr1-9973_proc_wrong.npy', allow_pickle=True).item()\n",
    "proc_000_gen = procs_general['ING71_MEC_230309_000_Behav_Fr1-9973_proc']\n",
    "\n",
    "plot_area(proc_000_gen, show=False)\n",
    "plot_area(proc_000_ind)"
   ]
  },
  {
   "cell_type": "markdown",
   "metadata": {},
   "source": [
    "This is interesting! Not even the original one overlaps completely... Here the .npy-file was first processed in the GUI (yielding the green graph) and then that proc-file was used to process the entire folder (including the purple graph). Could it be that there is some randomness to the calculations which yield the difference in result? This was very interesting, indeed. Could it be that the saturation is not saved in the proc-file which is used for processing, but only employed when processing inside the GUI? This could be checked out "
   ]
  },
  {
   "cell_type": "markdown",
   "metadata": {},
   "source": [
    "#### Compare procs"
   ]
  },
  {
   "cell_type": "code",
   "execution_count": null,
   "metadata": {},
   "outputs": [],
   "source": [
    "print(proc_000_gen['rois'][0]['saturation'])\n",
    "print(proc_000_ind['rois'][0]['saturation'])"
   ]
  },
  {
   "cell_type": "markdown",
   "metadata": {},
   "source": [
    "Very interesting... It seems the saturation is different in the two "
   ]
  },
  {
   "cell_type": "code",
   "execution_count": null,
   "metadata": {},
   "outputs": [],
   "source": [
    "print(proc_000_gen['rois'][0]['yrange'])\n",
    "print(proc_000_ind['rois'][0]['yrange'])\n",
    "\n",
    "print(proc_000_gen['rois'][0]['xrange'])\n",
    "print(proc_000_ind['rois'][0]['xrange'])"
   ]
  },
  {
   "cell_type": "code",
   "execution_count": null,
   "metadata": {},
   "outputs": [],
   "source": [
    "print(proc_000_gen['rois'][0]['ellipse'])\n",
    "print(proc_000_ind['rois'][0]['ellipse'])"
   ]
  },
  {
   "cell_type": "code",
   "execution_count": null,
   "metadata": {},
   "outputs": [],
   "source": [
    "plt.imshow(proc_000_ind['rois'][0]['ellipse'], cmap='plasma')\n",
    "plt.imshow(proc_000_gen['rois'][0]['ellipse'], alpha=0.7, cmap='plasma')\n",
    "plt.show()"
   ]
  },
  {
   "cell_type": "markdown",
   "metadata": {},
   "source": [
    "See that there is not a complete overlap between the two. "
   ]
  },
  {
   "cell_type": "markdown",
   "metadata": {},
   "source": [
    "##### Compare procs for '/Volumes/T7/ING71_MEC_230317'\n",
    "Would like to compare proc before and after processing (through facemap_tools)\n",
    "\n",
    "Now with folder '/Volumes/T7/ING71_MEC_230317' (would have liked to try with the other mouse, but this is the only data I have access to at the moment.)"
   ]
  },
  {
   "cell_type": "code",
   "execution_count": null,
   "metadata": {},
   "outputs": [],
   "source": [
    "proc_b4_proc = np.load('/Volumes/T7/ING71_MEC_230317/AVI/ING71_MEC_230317_000_Behav_Fr1-9973_unproc_proc.npy', allow_pickle=True).item()\n",
    "proc_af_proc = np.load('/Volumes/T7/ING71_MEC_230317/AVI/resultsnpy/ING71_MEC_230317_000_Behav_Fr1-9973_proc.npy', allow_pickle=True).item()\n",
    "\n",
    "print(proc_b4_proc['rois'])\n",
    "print(proc_af_proc['rois'])"
   ]
  },
  {
   "cell_type": "markdown",
   "metadata": {},
   "source": [
    "Seem to be identical! \n",
    "\n",
    "Would now like to process it trough the gui and compare it. "
   ]
  },
  {
   "cell_type": "code",
   "execution_count": null,
   "metadata": {},
   "outputs": [],
   "source": [
    "proc_af_gui_proc = np.load('/Volumes/T7/ING71_MEC_230317/AVI/ING71_MEC_230317_000_Behav_Fr1-9973_proc.npy', allow_pickle=True).item()\n",
    "\n",
    "print(proc_b4_proc['rois'])\n",
    "print(proc_af_gui_proc['rois'])"
   ]
  },
  {
   "cell_type": "markdown",
   "metadata": {},
   "source": [
    "What? This still seem identical..."
   ]
  },
  {
   "cell_type": "code",
   "execution_count": null,
   "metadata": {},
   "outputs": [],
   "source": [
    "plot_area(proc_af_proc, show=False)\n",
    "plot_area(proc_af_gui_proc)"
   ]
  },
  {
   "cell_type": "markdown",
   "metadata": {},
   "source": [
    "Wait, so now it completely overlaps... What did I do before? Haha.\n",
    "\n",
    "Perhaps I sent in the  wrong npy-file while processing the folder? Perhaps I sent in the wrong path and it ended up using sample or something?"
   ]
  },
  {
   "cell_type": "code",
   "execution_count": null,
   "metadata": {},
   "outputs": [],
   "source": [
    "# Look at sample.npy to see if this is the one who's been used \n",
    "proc_sample = np.load('/Users/annapaulinehjertvikaasen/Documents/2. UiO/Sommerjobb - Frederik/Sommerjobb 2023/MouseProject/MouseProjectGH/ING71_MEC_230309/AVI/sample.npy', allow_pickle=True).item()\n",
    "print(proc_sample['rois'][0]['saturation'])"
   ]
  },
  {
   "cell_type": "code",
   "execution_count": null,
   "metadata": {},
   "outputs": [],
   "source": [
    "proc_sample_2 = np.load('/Volumes/T7/ING71_MEC_230309/AVI/ING71_MEC_230309_sample.npy', allow_pickle=True).item()\n",
    "print(proc_sample_2['rois'][0]['saturation'])"
   ]
  },
  {
   "cell_type": "markdown",
   "metadata": {},
   "source": [
    "Aha! Here we see what's happened! I have perhaps forgotten to send in the a path to the proc-file. \n",
    "\n",
    "However, when looking at the terminal history, this is not what happened. Looks like it should have used the path I sent in, also when looking at the function. \n",
    "\n",
    "![](figures/terminal.png)\n",
    "\n",
    "To test this hypothesis though, we could process the ---_sample.npy file and compare. Should then see a complete overlap. If this is the case then the results above are valid. \n",
    "\n",
    "\n",
    "However, I cannot upload ---_sample.npy to the GUI since Eirik created that, hahah.\n"
   ]
  },
  {
   "cell_type": "markdown",
   "metadata": {},
   "source": [
    "#### Next folder: '/Volumes/T7/ING71_MEC_230317'"
   ]
  },
  {
   "cell_type": "code",
   "execution_count": null,
   "metadata": {},
   "outputs": [],
   "source": [
    "procs_17_general = create_procs('/Volumes/T7/ING71_MEC_230317/AVI/resultsnpy')"
   ]
  },
  {
   "cell_type": "code",
   "execution_count": null,
   "metadata": {},
   "outputs": [],
   "source": [
    "proc_17_001_ind = np.load('/Volumes/T7/ING71_MEC_230317/AVI/ING71_MEC_230317_001_Behav_Fr1-11947_proc.npy', allow_pickle=True).item()\n",
    "proc_17_001_gen = procs_17_general['ING71_MEC_230317_001_Behav_Fr1-11947_proc']\n",
    "\n",
    "plot_area(proc_17_001_gen, show=False)\n",
    "plot_area(proc_17_001_ind)\n",
    "\n",
    "\n",
    "proc_17_002_ind = np.load('/Volumes/T7/ING71_MEC_230317/AVI/ING71_MEC_230317_002_Behav_Fr11949-23896_proc.npy', allow_pickle=True).item()\n",
    "proc_17_002_gen = procs_17_general['ING71_MEC_230317_002_Behav_Fr11949-23896_proc']\n",
    "\n",
    "plot_area(proc_17_002_gen, show=False)\n",
    "plot_area(proc_17_002_ind)\n",
    "\n",
    "\n",
    "proc_17_003_ind = np.load('/Volumes/T7/ING71_MEC_230317/AVI/ING71_MEC_230317_003_Behav_Fr23897-35844_proc.npy', allow_pickle=True).item()\n",
    "proc_17_003_gen = procs_17_general['ING71_MEC_230317_003_Behav_Fr23897-35844_proc']\n",
    "\n",
    "plot_area(proc_17_003_gen, show=False)\n",
    "plot_area(proc_17_003_ind, alpha=0.65)\n",
    "\n",
    "\n",
    "proc_17_009_ind = np.load('/Volumes/T7/ING71_MEC_230317/AVI/ING71_MEC_230317_009_Behav_Fr47793-59738_proc.npy', allow_pickle=True).item()\n",
    "proc_17_009_gen = procs_17_general['ING71_MEC_230317_009_Behav_Fr47793-59738_proc']\n",
    "\n",
    "plot_area(proc_17_009_gen, show=False)\n",
    "plot_area(proc_17_009_ind, alpha=0.65)"
   ]
  },
  {
   "cell_type": "markdown",
   "metadata": {},
   "source": [
    "Again it looks like the general shape of the area stays constant. In most cases there seems to be a shift, perhaps due to the saturation settings."
   ]
  },
  {
   "cell_type": "markdown",
   "metadata": {},
   "source": [
    "### Comparing with behavioral data"
   ]
  },
  {
   "cell_type": "markdown",
   "metadata": {},
   "source": [
    "### Runwise areas"
   ]
  },
  {
   "cell_type": "code",
   "execution_count": null,
   "metadata": {},
   "outputs": [],
   "source": [
    "areas, areas_smooth = create_areas('/Volumes/T7/ING71_MEC_230317/AVI/resultsnpy/run_based')"
   ]
  },
  {
   "cell_type": "code",
   "execution_count": null,
   "metadata": {},
   "outputs": [],
   "source": [
    "plt.plot(areas['000'])\n",
    "plt.plot(areas_smooth['000'])"
   ]
  },
  {
   "cell_type": "code",
   "execution_count": null,
   "metadata": {},
   "outputs": [],
   "source": [
    "plt.plot(areas['001'])\n",
    "plt.plot(areas_smooth['001'])"
   ]
  },
  {
   "cell_type": "code",
   "execution_count": null,
   "metadata": {},
   "outputs": [],
   "source": []
  }
 ],
 "metadata": {
  "kernelspec": {
   "display_name": "MP",
   "language": "python",
   "name": "python3"
  },
  "language_info": {
   "codemirror_mode": {
    "name": "ipython",
    "version": 3
   },
   "file_extension": ".py",
   "mimetype": "text/x-python",
   "name": "python",
   "nbconvert_exporter": "python",
   "pygments_lexer": "ipython3",
   "version": "3.8.16"
  },
  "orig_nbformat": 4
 },
 "nbformat": 4,
 "nbformat_minor": 2
}
