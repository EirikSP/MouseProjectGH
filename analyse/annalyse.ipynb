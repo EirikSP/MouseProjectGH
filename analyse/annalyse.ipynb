{
 "cells": [
  {
   "cell_type": "markdown",
   "metadata": {},
   "source": [
    "# Analysis"
   ]
  },
  {
   "cell_type": "markdown",
   "metadata": {},
   "source": [
    "### Importing stuff"
   ]
  },
  {
   "cell_type": "code",
   "execution_count": null,
   "metadata": {},
   "outputs": [],
   "source": [
    "import numpy as np \n",
    "import matplotlib.pyplot as plt \n",
    "import os\n",
    "import sys \n",
    "\n",
    "sys.path.append(os.path.join(os.getcwd(), '..'))\n",
    "from facemap_tools.process_tools import create_procs\n",
    "import facemap_tools.plot_utils\n",
    "from facemap_tools.plotting import plot_area\n",
    "import facemap"
   ]
  },
  {
   "cell_type": "code",
   "execution_count": null,
   "metadata": {},
   "outputs": [],
   "source": [
    "### Problems with loading .npy-files in the gui:\n",
    "proc_broken = np.load(\"/Users/annapaulinehjertvikaasen/Documents/2. UiO/Sommerjobb - Frederik/Sommerjobb 2023/MouseProject/ING71_MEC_230309/AVI/ING71_MEC_230309_000_Behav_Fr1-9973_proc.npy\", allow_pickle=True).item()\n",
    "print(proc_broken)\n",
    "print(proc_broken['rois']) ## seems like it is not broken \n"
   ]
  },
  {
   "cell_type": "code",
   "execution_count": null,
   "metadata": {},
   "outputs": [],
   "source": [
    "## Now 230310 works (with its own )\n",
    "proc_230310 = np.load(\"/Users/annapaulinehjertvikaasen/Documents/2. UiO/Sommerjobb - Frederik/Sommerjobb 2023/MouseProject/ING71_MEC_230310/AVI/ING71_MEC_230310_000_Behav_Fr1-9973_proc.npy\", allow_pickle=True).item()\n",
    "print(proc_230310)"
   ]
  },
  {
   "cell_type": "markdown",
   "metadata": {},
   "source": [
    "### Loading procs"
   ]
  },
  {
   "cell_type": "code",
   "execution_count": null,
   "metadata": {},
   "outputs": [],
   "source": [
    "# resultfolder = \"/Volumes/T7/ING71_MEC_230309/AVI/resultsnpy\" \n",
    "resultfolder = \"/Users/annapaulinehjertvikaasen/Documents/2. UiO/Sommerjobb - Frederik/Sommerjobb 2023/MouseProject/ING71_MEC_230309/AVI/resultsnpy\"\n",
    "\n",
    "procs = create_procs(resultfolder)"
   ]
  },
  {
   "cell_type": "markdown",
   "metadata": {},
   "source": [
    "### Looking into pupil area plotted "
   ]
  },
  {
   "cell_type": "code",
   "execution_count": null,
   "metadata": {},
   "outputs": [],
   "source": [
    "for filename in list(procs.keys())[::5]:\n",
    "    proc = procs[filename]\n",
    "    plot_area(proc)\n",
    "    plot_area(proc, zoom=True)\n"
   ]
  },
  {
   "cell_type": "code",
   "execution_count": null,
   "metadata": {},
   "outputs": [],
   "source": [
    "proc = list(procs.values())[-1]\n",
    "\n",
    "plt.plot(proc['pupil'][0]['area'])\n",
    "plt.plot(proc['pupil'][0]['area_smooth'])\n",
    "plt.xlim((500,800))"
   ]
  },
  {
   "cell_type": "code",
   "execution_count": null,
   "metadata": {},
   "outputs": [],
   "source": [
    "print(procs.keys())"
   ]
  },
  {
   "cell_type": "code",
   "execution_count": null,
   "metadata": {},
   "outputs": [],
   "source": [
    "plt.plot(procs['ING71_MEC_230309_001_Behav_Fr1-11947_proc']['pupil'][0]['area'])\n",
    "plt.plot(procs['ING71_MEC_230309_001_Behav_Fr1-11947_proc']['pupil'][0]['area_smooth'])\n",
    "# plt.xlim((500,800))\n",
    "# plt.ylim((100,125))"
   ]
  },
  {
   "cell_type": "markdown",
   "metadata": {},
   "source": [
    "### More interesting data?"
   ]
  },
  {
   "cell_type": "code",
   "execution_count": null,
   "metadata": {},
   "outputs": [],
   "source": [
    "proc = list(procs.values())[0]\n",
    "\n",
    "print(proc.keys())\n",
    "print(proc['pupil'][0].keys())\n",
    "\n",
    "print(np.shape(proc['pupil'][0]['axdir']))\n",
    "print(np.shape(proc['pupil'][0]['axlen']))\n",
    "# print(proc['pupil'][0]['axdir'])\n",
    "# print(proc['pupil'][0]['axlen'])"
   ]
  },
  {
   "cell_type": "code",
   "execution_count": null,
   "metadata": {},
   "outputs": [],
   "source": [
    "plt.plot(proc['pupil'][0]['axlen'][:,0])\n",
    "plt.plot(proc['pupil'][0]['axlen'][:,1])"
   ]
  },
  {
   "cell_type": "markdown",
   "metadata": {},
   "source": [
    "Looks like axlen and axdir refer to the axis that make up the tracker ellipse around the pupil. They seem to coincide very well with the area, which is expected as the area is calculated from the ellipse. We assume that axdir is the direction of the two axis making up the ellipse, and axlen the length of them. "
   ]
  },
  {
   "cell_type": "code",
   "execution_count": null,
   "metadata": {},
   "outputs": [],
   "source": [
    "print(proc['rois'][0].keys())"
   ]
  },
  {
   "cell_type": "markdown",
   "metadata": {},
   "source": [
    "Looks like rois contain little data of interest for further analysis. It could be interesting for understanding what we have done when creating the ROIs, so one could argue that the proc-files (per folder, as the ROI is the same for an entire folder. Could call it sample or something) should be saved. "
   ]
  },
  {
   "cell_type": "code",
   "execution_count": null,
   "metadata": {},
   "outputs": [],
   "source": [
    "# 'Ly', 'Lx' \n",
    "print(proc['Lx'])\n",
    "print(proc['Ly'])\n",
    "print(86/3*66/3)"
   ]
  },
  {
   "cell_type": "markdown",
   "metadata": {},
   "source": [
    "We assume the pupil makes up about 1/3 of the x-dir and y-dir. We see that the number of pixels within this fram seem to correspond with the y-axis of the area plots. \n",
    "\n",
    "When trying with two different files (within the same folder). Lx and Ly stay constant"
   ]
  },
  {
   "cell_type": "code",
   "execution_count": null,
   "metadata": {},
   "outputs": [],
   "source": [
    "# 'avgframe':  list of average frames for each video from a subset of frames (binned by sbin) \n",
    "# 'avgmotion':  list of average motions for each video from a subset of frames (binned by sbin)\n",
    "print(np.shape(proc['avgframe']))\n",
    "print(proc['avgframe'])\n",
    "plt.plot(proc['avgframe'][0])"
   ]
  },
  {
   "cell_type": "code",
   "execution_count": null,
   "metadata": {},
   "outputs": [],
   "source": [
    "print(np.shape(proc['avgmotion']))\n",
    "print(proc['avgmotion'])\n",
    "plt.plot(proc['avgmotion'][0])"
   ]
  },
  {
   "cell_type": "markdown",
   "metadata": {},
   "source": [
    "### Downsampling "
   ]
  },
  {
   "cell_type": "code",
   "execution_count": null,
   "metadata": {},
   "outputs": [],
   "source": [
    "import scipy as sp"
   ]
  },
  {
   "cell_type": "code",
   "execution_count": null,
   "metadata": {},
   "outputs": [],
   "source": [
    "#Behavioral data\n",
    "\n",
    "def get_experiment_n_day_k(n, k):\n",
    "    #n is a string ex: '04', '10'\n",
    "    #k is on the form yymmdd\n",
    "    base = \"/Volumes/T7/ING71_MEC_\" + str(k)\n",
    "    base = os.path.join(base, 'AVI')\n",
    "    base = os.path.join(base, 'resultsnpy')\n",
    "\n",
    "    behavior_base = \"/Volumes/T7/mec-lec-por-data\"\n",
    "    files = os.listdir(base)\n",
    "\n",
    "    experiment_base = 'ING71_MEC_' + str(k) + '_0' + n\n",
    "\n",
    "    exp_filenames = [file for file in files if file[:20] == experiment_base]\n",
    "\n",
    "    complete_proc = []\n",
    "    for file in exp_filenames:\n",
    "        proc = np.load(os.path.join(base, file), allow_pickle=True).item()\n",
    "        complete_proc.extend(proc['pupil'][0]['area'])\n",
    "\n",
    "    negative = np.load(os.path.join(behavior_base, experiment_base + '_negative.npy'), allow_pickle=True)\n",
    "    positive = np.load(os.path.join(behavior_base, experiment_base + '_positive.npy'), allow_pickle=True)\n",
    "    reward = np.load(os.path.join(behavior_base, experiment_base + '_reward.npy'), allow_pickle=True)\n",
    "    aversive = np.load(os.path.join(behavior_base, experiment_base + '_aversive.npy'), allow_pickle=True)\n",
    "    \n",
    "    return complete_proc, negative, positive, reward, aversive"
   ]
  },
  {
   "cell_type": "code",
   "execution_count": null,
   "metadata": {},
   "outputs": [],
   "source": [
    "c_proc, negative ,positive, reward, aversive = get_experiment_n_day_k('03', 230309)"
   ]
  },
  {
   "cell_type": "code",
   "execution_count": null,
   "metadata": {},
   "outputs": [],
   "source": [
    "n_points = len(positive)\n",
    "ds_proc = sp.signal.resample(c_proc, n_points) #ds stands for downsampled\n",
    "\n",
    "plt.plot(ds_proc)\n",
    "plt.plot(c_proc)\n",
    "plt.show()\n",
    "\n",
    "#Plot with downsampeled \n",
    "plt.plot(ds_proc)\n",
    "plt.scatter(np.arange(len(positive)), positive*ds_proc, 5, color='r')\n",
    "# plt.xlim(0,100)"
   ]
  },
  {
   "cell_type": "code",
   "execution_count": null,
   "metadata": {},
   "outputs": [],
   "source": [
    "\n",
    "# Using decimate\n",
    "\n",
    "ds_proc_d  = sp.signal.decimate(c_proc, 2)\n",
    " \n",
    "plt.plot(ds_proc_d)\n",
    "plt.plot(c_proc)\n",
    "plt.show()"
   ]
  },
  {
   "cell_type": "code",
   "execution_count": null,
   "metadata": {},
   "outputs": [],
   "source": []
  },
  {
   "cell_type": "markdown",
   "metadata": {},
   "source": [
    "## Checking various ROIs\n",
    "\n",
    "\n"
   ]
  }
 ],
 "metadata": {
  "kernelspec": {
   "display_name": "MP",
   "language": "python",
   "name": "python3"
  },
  "language_info": {
   "codemirror_mode": {
    "name": "ipython",
    "version": 3
   },
   "file_extension": ".py",
   "mimetype": "text/x-python",
   "name": "python",
   "nbconvert_exporter": "python",
   "pygments_lexer": "ipython3",
   "version": "3.8.16"
  },
  "orig_nbformat": 4
 },
 "nbformat": 4,
 "nbformat_minor": 2
}
