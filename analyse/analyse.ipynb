{
 "cells": [
  {
   "cell_type": "code",
   "execution_count": 82,
   "metadata": {},
   "outputs": [],
   "source": [
    "import numpy as np\n",
    "import os\n",
    "from matplotlib import pyplot as plt"
   ]
  },
  {
   "cell_type": "code",
   "execution_count": 142,
   "metadata": {},
   "outputs": [],
   "source": [
    "base = \"D:\\\\ING71_MEC_230309\\\\AVI\\\\resultsnpy\"\n",
    "behavior_base = \"D:\\mec-lec-por-data\"\n",
    "files = os.listdir(base)\n",
    "\n",
    "def get_experiment_n_day_k(n, k):\n",
    "    #n is a string ex: '04', '10'\n",
    "    #k is on the form yymmdd\n",
    "    base = \"D:\\\\ING71_MEC_\" + str(k)\n",
    "    base = os.path.join(base, 'AVI')\n",
    "    base = os.path.join(base, 'resultsnpy')\n",
    "\n",
    "\n",
    "    behavior_base = \"D:\\mec-lec-por-data\"\n",
    "    files = os.listdir(base)\n",
    "\n",
    "    experiment_base = 'ING71_MEC_' + str(k) + '_0' + n\n",
    "\n",
    "    exp_filenames = [file for file in files if file[:20] == experiment_base]\n",
    "\n",
    "    \n",
    "\n",
    "    complete_proc = []\n",
    "    for file in exp_filenames:\n",
    "        proc = np.load(os.path.join(base, file), allow_pickle=True).item()\n",
    "        complete_proc.extend(proc['pupil'][0]['area'])\n",
    "\n",
    "    negative = np.load(os.path.join(behavior_base, experiment_base + '_negative.npy'), allow_pickle=True)\n",
    "    positive = np.load(os.path.join(behavior_base, experiment_base + '_positive.npy'), allow_pickle=True)\n",
    "    reward = np.load(os.path.join(behavior_base, experiment_base + '_reward.npy'), allow_pickle=True)\n",
    "    aversive = np.load(os.path.join(behavior_base, experiment_base + '_aversive.npy'), allow_pickle=True)\n",
    "    \n",
    "    return complete_proc, negative, positive, reward, aversive\n"
   ]
  },
  {
   "cell_type": "code",
   "execution_count": 143,
   "metadata": {},
   "outputs": [],
   "source": [
    "#proc = np.load(\"D:\\\\ING71_MEC_230316\\\\Behavior Cam\\\\AVI\\\\resultsnpy\\\\ING71_MEC_230316_003_Behav_Fr1-11947_proc.npy\", allow_pickle=True).item()\n",
    "\n",
    "#negative = np.load(\"D:\\\\mec-lec-por-data\\\\ING71_MEC_230316_003_negative.npy\", allow_pickle=True)\n",
    "#positive = np.load(\"D:\\\\mec-lec-por-data\\\\ING71_MEC_230316_003_positive.npy\", allow_pickle=True)"
   ]
  },
  {
   "cell_type": "code",
   "execution_count": 155,
   "metadata": {},
   "outputs": [],
   "source": [
    "c_proc, negative ,positive, reward, aversive = get_experiment_n_day_k('01', 230310)"
   ]
  },
  {
   "cell_type": "code",
   "execution_count": 160,
   "metadata": {},
   "outputs": [
    {
     "name": "stdout",
     "output_type": "stream",
     "text": [
      "21752\n"
     ]
    }
   ],
   "source": [
    "start = 21730\n",
    "end = 21770\n",
    "plt.plot(c_proc[start:end])\n",
    "plt.scatter(np.arange(len(negative[start:end])),np.array(negative[start:end])*max(c_proc))\n",
    "#plt.scatter(np.arange(len(positive[start:end])),np.array(positive[start:end])*max(c_proc))\n",
    "#plt.scatter(np.arange(len(reward[start:end])),np.array(reward)*max(c_proc))\n",
    "plt.scatter(np.arange(len(aversive[start:end])),np.array(aversive[start:end])*max(c_proc))\n",
    "print(np.argmax(c_proc))\n",
    "plt.show()"
   ]
  },
  {
   "cell_type": "code",
   "execution_count": 158,
   "metadata": {},
   "outputs": [
    {
     "data": {
      "text/plain": [
       "9805"
      ]
     },
     "execution_count": 158,
     "metadata": {},
     "output_type": "execute_result"
    }
   ],
   "source": [
    "21752 - 11947"
   ]
  },
  {
   "cell_type": "code",
   "execution_count": null,
   "metadata": {},
   "outputs": [],
   "source": []
  }
 ],
 "metadata": {
  "kernelspec": {
   "display_name": "MouseVenv",
   "language": "python",
   "name": "python3"
  },
  "language_info": {
   "codemirror_mode": {
    "name": "ipython",
    "version": 3
   },
   "file_extension": ".py",
   "mimetype": "text/x-python",
   "name": "python",
   "nbconvert_exporter": "python",
   "pygments_lexer": "ipython3",
   "version": "3.8.10"
  },
  "orig_nbformat": 4
 },
 "nbformat": 4,
 "nbformat_minor": 2
}
